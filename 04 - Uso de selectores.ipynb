{
 "cells": [
  {
   "cell_type": "markdown",
   "id": "0b8bff79",
   "metadata": {
    "id": "0b8bff79"
   },
   "source": [
    "# Uso de selectores\n",
    "\n",
    "Si conocéis el lenguaje CSS entonces ya sabéis lo que vamos a aprender en esta lección.\n",
    "\n",
    "Los selectores son una técnica para especificar de forma más concreta qué elementos recuperar del árbol:\n",
    "\n",
    "| Selector                 | Descripción                      | \n",
    "|--------------------------|----------------------------------| \n",
    "| Etiquetas                | `soup.select(\"tag\")`             | \n",
    "| Identificadores          | `soup.select(\"#id\")`             | \n",
    "| Clases                   | `soup.select(\".class\")`          | \n",
    "| Atributos                | `soup.select(\"tag[attr)`         |  \n",
    "| Etiquetas en etiquetas   | `soup.select(\"parent child\")`    | \n",
    "\n",
    "Vamos a scrapear [la página de Python](https://es.wikipedia.org/wiki/Python) en la Wikipedia para poner en práctica algunos de estos selectores:"
   ]
  },
  {
   "cell_type": "code",
   "execution_count": 16,
   "id": "aa1cc8d8",
   "metadata": {
    "colab": {
     "base_uri": "https://localhost:8080/"
    },
    "executionInfo": {
     "elapsed": 2050,
     "status": "ok",
     "timestamp": 1663857104829,
     "user": {
      "displayName": "Rubén Juárez Cádiz",
      "userId": "13827813516298494191"
     },
     "user_tz": -120
    },
    "id": "aa1cc8d8",
    "outputId": "cecc0dc8-b05b-42cb-a098-ddb436e2aa8e"
   },
   "outputs": [
    {
     "name": "stdout",
     "output_type": "stream",
     "text": [
      "Universidad Alfonso X El Sabio: Universidad Privada en Madrid - UAX\n"
     ]
    }
   ],
   "source": [
    "import requests\n",
    "from bs4 import BeautifulSoup\n",
    "\n",
    "req = requests.get(\"https://uax.com\")\n",
    "soup = BeautifulSoup(req.text)\n",
    "\n",
    "title = soup.select(\"title\")[0].getText()\n",
    "print(title)"
   ]
  },
  {
   "cell_type": "markdown",
   "id": "74836c47",
   "metadata": {
    "id": "74836c47"
   },
   "source": [
    "Haciendo **clic derecho inspeccionar en cualquier navegador** podemos ver el código fuente mientras seleccionamos los elementos de la página.\n",
    "\n",
    "Por ejemplo, en el primer parágrafo del documento encontramos un resumen del artículo:"
   ]
  },
  {
   "cell_type": "code",
   "execution_count": 17,
   "id": "70118d22",
   "metadata": {
    "colab": {
     "base_uri": "https://localhost:8080/"
    },
    "executionInfo": {
     "elapsed": 3,
     "status": "ok",
     "timestamp": 1663857142673,
     "user": {
      "displayName": "Rubén Juárez Cádiz",
      "userId": "13827813516298494191"
     },
     "user_tz": -120
    },
    "id": "70118d22",
    "outputId": "07cad10a-18f4-4deb-d67e-0336065a5c65"
   },
   "outputs": [
    {
     "name": "stdout",
     "output_type": "stream",
     "text": [
      "Por tipo de programa\n"
     ]
    }
   ],
   "source": [
    "resumen = soup.select(\"p\")[0].getText()\n",
    "print(resumen)"
   ]
  },
  {
   "cell_type": "markdown",
   "id": "694f4896",
   "metadata": {
    "id": "694f4896"
   },
   "source": [
    "## Scrapeando el índice\n",
    "\n",
    "La Wikipedia tiene lo que se conoce como **Tabla de contenidos**, un índice del documento. \n",
    "\n",
    "Según el inspector su etiqueta abre con este tag:\n",
    "\n",
    "```html\n",
    "<div id=\"toc\" class=\"toc\" role=\"navigation\" aria-labelledby=\"mw-toc-heading\">\n",
    "```\n",
    "\n",
    "Es una capa `div` pero tiene un identificador `id` así que podemos usar un selector y luego podemos extraer sus enlaces `a`:"
   ]
  },
  {
   "cell_type": "code",
   "execution_count": 25,
   "id": "ce0c5e48",
   "metadata": {
    "colab": {
     "base_uri": "https://localhost:8080/"
    },
    "executionInfo": {
     "elapsed": 373,
     "status": "ok",
     "timestamp": 1663857227415,
     "user": {
      "displayName": "Rubén Juárez Cádiz",
      "userId": "13827813516298494191"
     },
     "user_tz": -120
    },
    "id": "ce0c5e48",
    "outputId": "c9bed020-ad2f-46d3-c42c-06dca68723a7"
   },
   "outputs": [
    {
     "name": "stdout",
     "output_type": "stream",
     "text": [
      "Nuestra historia 25 años\n",
      "UAX Rafa Nadal School of Sport\n",
      "Innovación e Investigación\n",
      "La Universidad de la Empresa\n",
      "Portal de transparencia\n",
      "Campus y residencias\n",
      "Centros y laboratorios\n",
      "Instalaciones deportivas\n",
      "Campus Tour Interactivo\n",
      "Acceso a grados y dobles grados\n",
      "Acceso a másteres y postgrados\n",
      "Acceso a ciclos formativos\n",
      "Acceso mayores de 25 años\n",
      "Acceso estudiantes online\n",
      "Orientación Universitaria\n",
      "Becas, ayudas y financiación\n",
      "Beneficios por ser estudiante UAX\n"
     ]
    }
   ],
   "source": [
    "toc = soup.select(\"#megamenu-1591\")[0]\n",
    "\n",
    "for a in toc.select(\"a\"):\n",
    "    print(a.getText())"
   ]
  },
  {
   "cell_type": "markdown",
   "id": "fa2aa69e",
   "metadata": {
    "id": "fa2aa69e"
   },
   "source": [
    "Con un poco de ingenio y una expresión regular podemos mostrar únicamente los enlaces de primer nivel:"
   ]
  },
  {
   "cell_type": "code",
   "execution_count": 26,
   "id": "900e1f0e",
   "metadata": {
    "colab": {
     "base_uri": "https://localhost:8080/"
    },
    "executionInfo": {
     "elapsed": 251,
     "status": "ok",
     "timestamp": 1663857263710,
     "user": {
      "displayName": "Rubén Juárez Cádiz",
      "userId": "13827813516298494191"
     },
     "user_tz": -120
    },
    "id": "900e1f0e",
    "outputId": "06125f2c-42c0-4ce2-e548-839a49a43296"
   },
   "outputs": [],
   "source": [
    "import re\n",
    "\n",
    "for a in toc.select(\"a\"):\n",
    "    text = a.getText()\n",
    "    if re.match(r\"\\d+ \", text):\n",
    "        print(text)"
   ]
  },
  {
   "cell_type": "markdown",
   "id": "5d9186c7",
   "metadata": {
    "id": "5d9186c7"
   },
   "source": [
    "O formatear los de segundo y tercer nivel con espacios:"
   ]
  },
  {
   "cell_type": "code",
   "execution_count": 24,
   "id": "ca738002",
   "metadata": {
    "colab": {
     "base_uri": "https://localhost:8080/"
    },
    "executionInfo": {
     "elapsed": 227,
     "status": "ok",
     "timestamp": 1663857284641,
     "user": {
      "displayName": "Rubén Juárez Cádiz",
      "userId": "13827813516298494191"
     },
     "user_tz": -120
    },
    "id": "ca738002",
    "outputId": "be851bee-31ee-470e-9f4a-9fe9aebc25de"
   },
   "outputs": [],
   "source": [
    "import re\n",
    "\n",
    "for a in toc.select(\"a\"):\n",
    "    text = a.getText()\n",
    "    if re.match(r\"\\d+ \", text):\n",
    "        print(text)\n",
    "    elif re.match(r\"\\d+.\\d+ \", text):\n",
    "        print(\" \", text)\n",
    "    elif re.match(r\"\\d+.\\d+.\\d+ \", text):\n",
    "        print(\"   \", text)"
   ]
  },
  {
   "cell_type": "markdown",
   "id": "3344eeb6",
   "metadata": {
    "id": "3344eeb6"
   },
   "source": [
    "Como véis es cuestión de ser creativo y utilizar las herramientas de las que disponemos.\n",
    "\n",
    "## Scrapeando la caja de información\n",
    "\n",
    "Otro elemento interesante que encontramos en el artículo es la caja de información arriba a la derecha, si la insepeccionamos veremos que es una tabla con la clase `infobox`: \n",
    "\n",
    "\n",
    "```html\n",
    "<table class=\"infobox\" style=\"width:22.7em; line-height: 1.4em; text-align:left; padding:.23em;\">\n",
    "```\n",
    "\n",
    "En el lenguaje HTML las tablas se forman a partir de etiquetas con filas `tr` que contienen cabeceras `th` o celdas con datos `td`.\n",
    "\n",
    "Podemos empezar recorriendo las filas a ver qué encontramos:"
   ]
  },
  {
   "cell_type": "code",
   "execution_count": 8,
   "id": "b467cbba",
   "metadata": {
    "colab": {
     "base_uri": "https://localhost:8080/"
    },
    "executionInfo": {
     "elapsed": 247,
     "status": "ok",
     "timestamp": 1663857347932,
     "user": {
      "displayName": "Rubén Juárez Cádiz",
      "userId": "13827813516298494191"
     },
     "user_tz": -120
    },
    "id": "b467cbba",
    "outputId": "230dca5d-6b7d-46e5-e48a-9947f3a50f65"
   },
   "outputs": [],
   "source": [
    "tr_tags = soup.select(\".infobox tr\")\n",
    "\n",
    "for tr_tag in tr_tags:\n",
    "    print(tr_tag.getText())"
   ]
  },
  {
   "cell_type": "markdown",
   "id": "bc4d4e99",
   "metadata": {
    "id": "bc4d4e99"
   },
   "source": [
    "No está mal pero podríamos reestructurar el contenido de forma que sea más legible.\n",
    "\n",
    "Como cada `tr` tiene en teoría dos columnas, una con la cabecera `th` a la izquierda y el texto `td` a la derecha, podemos usar los índices para formatear el texto de salida:"
   ]
  },
  {
   "cell_type": "code",
   "execution_count": 9,
   "id": "fa77376c",
   "metadata": {
    "colab": {
     "base_uri": "https://localhost:8080/"
    },
    "executionInfo": {
     "elapsed": 253,
     "status": "ok",
     "timestamp": 1663857382381,
     "user": {
      "displayName": "Rubén Juárez Cádiz",
      "userId": "13827813516298494191"
     },
     "user_tz": -120
    },
    "id": "fa77376c",
    "outputId": "17d6e5d8-e036-4f4f-94da-450aa5df9c8a"
   },
   "outputs": [],
   "source": [
    "tr_tags = soup.select(\".infobox tr\")\n",
    "\n",
    "for tr_tag in tr_tags:\n",
    "    th_tags = tr_tag.select(\"th\")\n",
    "    td_tags = tr_tag.select(\"td\")\n",
    "    if len(th_tags) > 0 and len(td_tags) > 0:\n",
    "        print(f\"{th_tags[0].getText().strip()}: {td_tags[0].getText().strip()}\")"
   ]
  },
  {
   "cell_type": "markdown",
   "id": "d232ae09",
   "metadata": {
    "id": "d232ae09"
   },
   "source": [
    "## Scrapeando una imagen\n",
    "\n",
    "Por último nos quedó pendiente el logo del `infobox`, si inspeccionamos la imagen veremos que tiene un tag `img` con muchos atributos:\n",
    "\n",
    "```html\n",
    "<img alt=\"Python-logo-notext.svg\" src=\"//web.archive.org/web/20220722211457im_/https://upload.wikimedia.org/wikipedia/commons/thumb/c/c3/Python-logo-notext.svg/100px-Python-logo-notext.svg.png\" decoding=\"async\" width=\"100\" height=\"100\" srcset=\"//web.archive.org/web/20220722211457im_/https://upload.wikimedia.org/wikipedia/commons/thumb/c/c3/Python-logo-notext.svg/150px-Python-logo-notext.svg.png 1.5x, //web.archive.org/web/20220722211457im_/https://upload.wikimedia.org/wikipedia/commons/thumb/c/c3/Python-logo-notext.svg/200px-Python-logo-notext.svg.png 2x\" data-file-width=\"110\" data-file-height=\"110\">\n",
    "```\n",
    "\n",
    "Es un poco difícil recuperar este elemento porque no tiene un identificador único, pero se me ocurre algo mejor...\n",
    "\n",
    "¿No se encuentra la imagen principal siempre en la tabla `infobox`? Pues vamos a utilizarla para recuperar la primera imagen en su interior:"
   ]
  },
  {
   "cell_type": "markdown",
   "id": "3ad55151",
   "metadata": {
    "id": "3ad55151"
   },
   "source": [
    "Genial, solo tenemos que recuperar el enlace de la imagen en su atributo src:"
   ]
  },
  {
   "cell_type": "markdown",
   "id": "f2a513cc",
   "metadata": {
    "id": "f2a513cc"
   },
   "source": [
    "Utilizando el propio módulo `requests` podemos guardar la imagen en el directorio de este mismo notebook con el nombre que queramos:"
   ]
  },
  {
   "cell_type": "markdown",
   "id": "0b6cbbde",
   "metadata": {
    "id": "0b6cbbde"
   },
   "source": [
    "Si no falla en principio es que se ha descargado, podemos mostrar la imagen en markdown con un simple código:\n",
    "\n",
    "```markdown\n",
    "![](image.png)\n",
    "```\n",
    "\n",
    "![](image.png)\n",
    "\n",
    "Os recomiendo experimentar por vuestra cuenta para aprender más, en la [documentación oficial](https://www.crummy.com/software/BeautifulSoup/bs4/doc/) tenéis toda la información sobre `bs4` y el manejo de la jerarquía, también tenéis [más ejemplos sobre el uso de select](https://www.crummy.com/software/BeautifulSoup/bs4/doc/#css-selectors)."
   ]
  },
  {
   "cell_type": "code",
   "execution_count": 9,
   "id": "16059074",
   "metadata": {
    "id": "16059074"
   },
   "outputs": [
    {
     "name": "stdout",
     "output_type": "stream",
     "text": [
      "No se pudo encontrar la etiqueta img.\n"
     ]
    }
   ],
   "source": [
    "import requests\n",
    "from bs4 import BeautifulSoup\n",
    "\n",
    "url = \"https://www.uax.com/\"\n",
    "\n",
    "# Realizar solicitud HTTP\n",
    "response = requests.get(url)\n",
    "\n",
    "# Analizar contenido HTML de la respuesta\n",
    "soup = BeautifulSoup(response.text, \"html.parser\")\n",
    "\n",
    "# Encontrar la etiqueta de imagen y obtener su URL\n",
    "img_tag = soup.find(\"img\", {\"class\": \"img-responsive\"})\n",
    "if img_tag is not None:\n",
    "    img_url = img_tag.get(\"src\")\n",
    "    if img_url is not None:\n",
    "        # Descargar la imagen y guardarla en un archivo\n",
    "        response = requests.get(img_url)\n",
    "        with open(\"uax_logo.png\", \"wb\") as f:\n",
    "            f.write(response.content)\n",
    "    else:\n",
    "        print(\"La etiqueta img no tiene el atributo src.\")\n",
    "else:\n",
    "    print(\"No se pudo encontrar la etiqueta img.\")"
   ]
  }
 ],
 "metadata": {
  "colab": {
   "provenance": []
  },
  "kernelspec": {
   "display_name": "Python 3",
   "language": "python",
   "name": "python3"
  },
  "language_info": {
   "codemirror_mode": {
    "name": "ipython",
    "version": 3
   },
   "file_extension": ".py",
   "mimetype": "text/x-python",
   "name": "python",
   "nbconvert_exporter": "python",
   "pygments_lexer": "ipython3",
   "version": "3.8.8"
  }
 },
 "nbformat": 4,
 "nbformat_minor": 5
}
